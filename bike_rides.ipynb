{
 "cells": [
  {
   "cell_type": "code",
   "execution_count": 4,
   "id": "bcc897cc",
   "metadata": {},
   "outputs": [],
   "source": [
    "import pandas as pd\n",
    "import zipfile"
   ]
  },
  {
   "cell_type": "code",
   "execution_count": 5,
   "id": "946e1d22",
   "metadata": {},
   "outputs": [],
   "source": [
    "# you can download the zip file through the zip provided in this repository\n",
    "zip_file = 'london_bike_sharing_db.zip' "
   ]
  },
  {
   "cell_type": "code",
   "execution_count": 6,
   "id": "2ea21ad4",
   "metadata": {},
   "outputs": [],
   "source": [
    "# extract the file from the downloaded zip file\n",
    "with zipfile.ZipFile(zip_file, 'r') as file:\n",
    "    file.extractall()"
   ]
  },
  {
   "cell_type": "code",
   "execution_count": 7,
   "id": "d5a66116",
   "metadata": {},
   "outputs": [],
   "source": [
    "# read in the csv file as a pandas dataframe\n",
    "df = pd.read_csv('london_merged.csv')"
   ]
  },
  {
   "cell_type": "markdown",
   "id": "413a044c",
   "metadata": {},
   "source": [
    "### exploring the data "
   ]
  },
  {
   "cell_type": "code",
   "execution_count": 8,
   "id": "5cadb5d3",
   "metadata": {},
   "outputs": [
    {
     "data": {
      "text/html": [
       "<div>\n",
       "<style scoped>\n",
       "    .dataframe tbody tr th:only-of-type {\n",
       "        vertical-align: middle;\n",
       "    }\n",
       "\n",
       "    .dataframe tbody tr th {\n",
       "        vertical-align: top;\n",
       "    }\n",
       "\n",
       "    .dataframe thead th {\n",
       "        text-align: right;\n",
       "    }\n",
       "</style>\n",
       "<table border=\"1\" class=\"dataframe\">\n",
       "  <thead>\n",
       "    <tr style=\"text-align: right;\">\n",
       "      <th></th>\n",
       "      <th>timestamp</th>\n",
       "      <th>cnt</th>\n",
       "      <th>t1</th>\n",
       "      <th>t2</th>\n",
       "      <th>hum</th>\n",
       "      <th>wind_speed</th>\n",
       "      <th>weather_code</th>\n",
       "      <th>is_holiday</th>\n",
       "      <th>is_weekend</th>\n",
       "      <th>season</th>\n",
       "    </tr>\n",
       "  </thead>\n",
       "  <tbody>\n",
       "    <tr>\n",
       "      <th>0</th>\n",
       "      <td>2015-01-04 00:00:00</td>\n",
       "      <td>182</td>\n",
       "      <td>3.0</td>\n",
       "      <td>2.0</td>\n",
       "      <td>93.0</td>\n",
       "      <td>6.0</td>\n",
       "      <td>3.0</td>\n",
       "      <td>0.0</td>\n",
       "      <td>1.0</td>\n",
       "      <td>3.0</td>\n",
       "    </tr>\n",
       "    <tr>\n",
       "      <th>1</th>\n",
       "      <td>2015-01-04 01:00:00</td>\n",
       "      <td>138</td>\n",
       "      <td>3.0</td>\n",
       "      <td>2.5</td>\n",
       "      <td>93.0</td>\n",
       "      <td>5.0</td>\n",
       "      <td>1.0</td>\n",
       "      <td>0.0</td>\n",
       "      <td>1.0</td>\n",
       "      <td>3.0</td>\n",
       "    </tr>\n",
       "    <tr>\n",
       "      <th>2</th>\n",
       "      <td>2015-01-04 02:00:00</td>\n",
       "      <td>134</td>\n",
       "      <td>2.5</td>\n",
       "      <td>2.5</td>\n",
       "      <td>96.5</td>\n",
       "      <td>0.0</td>\n",
       "      <td>1.0</td>\n",
       "      <td>0.0</td>\n",
       "      <td>1.0</td>\n",
       "      <td>3.0</td>\n",
       "    </tr>\n",
       "    <tr>\n",
       "      <th>3</th>\n",
       "      <td>2015-01-04 03:00:00</td>\n",
       "      <td>72</td>\n",
       "      <td>2.0</td>\n",
       "      <td>2.0</td>\n",
       "      <td>100.0</td>\n",
       "      <td>0.0</td>\n",
       "      <td>1.0</td>\n",
       "      <td>0.0</td>\n",
       "      <td>1.0</td>\n",
       "      <td>3.0</td>\n",
       "    </tr>\n",
       "    <tr>\n",
       "      <th>4</th>\n",
       "      <td>2015-01-04 04:00:00</td>\n",
       "      <td>47</td>\n",
       "      <td>2.0</td>\n",
       "      <td>0.0</td>\n",
       "      <td>93.0</td>\n",
       "      <td>6.5</td>\n",
       "      <td>1.0</td>\n",
       "      <td>0.0</td>\n",
       "      <td>1.0</td>\n",
       "      <td>3.0</td>\n",
       "    </tr>\n",
       "  </tbody>\n",
       "</table>\n",
       "</div>"
      ],
      "text/plain": [
       "             timestamp  cnt   t1   t2    hum  wind_speed  weather_code  \\\n",
       "0  2015-01-04 00:00:00  182  3.0  2.0   93.0         6.0           3.0   \n",
       "1  2015-01-04 01:00:00  138  3.0  2.5   93.0         5.0           1.0   \n",
       "2  2015-01-04 02:00:00  134  2.5  2.5   96.5         0.0           1.0   \n",
       "3  2015-01-04 03:00:00   72  2.0  2.0  100.0         0.0           1.0   \n",
       "4  2015-01-04 04:00:00   47  2.0  0.0   93.0         6.5           1.0   \n",
       "\n",
       "   is_holiday  is_weekend  season  \n",
       "0         0.0         1.0     3.0  \n",
       "1         0.0         1.0     3.0  \n",
       "2         0.0         1.0     3.0  \n",
       "3         0.0         1.0     3.0  \n",
       "4         0.0         1.0     3.0  "
      ]
     },
     "execution_count": 8,
     "metadata": {},
     "output_type": "execute_result"
    }
   ],
   "source": [
    "df.head()"
   ]
  },
  {
   "cell_type": "code",
   "execution_count": 9,
   "id": "62d66514",
   "metadata": {},
   "outputs": [
    {
     "data": {
      "text/plain": [
       "timestamp        object\n",
       "cnt               int64\n",
       "t1              float64\n",
       "t2              float64\n",
       "hum             float64\n",
       "wind_speed      float64\n",
       "weather_code    float64\n",
       "is_holiday      float64\n",
       "is_weekend      float64\n",
       "season          float64\n",
       "dtype: object"
      ]
     },
     "execution_count": 9,
     "metadata": {},
     "output_type": "execute_result"
    }
   ],
   "source": [
    "df.dtypes"
   ]
  },
  {
   "cell_type": "code",
   "execution_count": 10,
   "id": "4a2d16c0",
   "metadata": {},
   "outputs": [
    {
     "data": {
      "text/plain": [
       "(17414, 10)"
      ]
     },
     "execution_count": 10,
     "metadata": {},
     "output_type": "execute_result"
    }
   ],
   "source": [
    "df.shape"
   ]
  },
  {
   "cell_type": "code",
   "execution_count": 11,
   "id": "74d56bb0",
   "metadata": {},
   "outputs": [
    {
     "data": {
      "text/plain": [
       "Index(['timestamp', 'cnt', 't1', 't2', 'hum', 'wind_speed', 'weather_code',\n",
       "       'is_holiday', 'is_weekend', 'season'],\n",
       "      dtype='object')"
      ]
     },
     "execution_count": 11,
     "metadata": {},
     "output_type": "execute_result"
    }
   ],
   "source": [
    "df.columns"
   ]
  },
  {
   "cell_type": "code",
   "execution_count": 12,
   "id": "d01fc85d",
   "metadata": {},
   "outputs": [
    {
     "data": {
      "text/plain": [
       "timestamp       0\n",
       "cnt             0\n",
       "t1              0\n",
       "t2              0\n",
       "hum             0\n",
       "wind_speed      0\n",
       "weather_code    0\n",
       "is_holiday      0\n",
       "is_weekend      0\n",
       "season          0\n",
       "dtype: int64"
      ]
     },
     "execution_count": 12,
     "metadata": {},
     "output_type": "execute_result"
    }
   ],
   "source": [
    "# are there any null values ?\n",
    "df.isna().sum()"
   ]
  },
  {
   "cell_type": "markdown",
   "id": "c933f177",
   "metadata": {},
   "source": [
    "seems like there is none "
   ]
  },
  {
   "cell_type": "markdown",
   "id": "95905600",
   "metadata": {},
   "source": [
    "# the column names are not much representative , we are going to modify some"
   ]
  },
  {
   "cell_type": "code",
   "execution_count": 14,
   "id": "9429e8de",
   "metadata": {},
   "outputs": [],
   "source": [
    "column_names = {\n",
    "    'cnt': 'new_bike_shares', \n",
    "    't1':'temprature_in_C',\n",
    "    't2':'Felt_temprature', \n",
    "    'hum':'humidity',\n",
    "    'weather_code': 'weather_state'\n",
    "}\n",
    "df.rename(columns = column_names, inplace=True)"
   ]
  },
  {
   "cell_type": "code",
   "execution_count": 16,
   "id": "d5a571d9",
   "metadata": {},
   "outputs": [],
   "source": [
    "df.humidity = df.humidity/ 100"
   ]
  },
  {
   "cell_type": "markdown",
   "id": "c5bf93cf",
   "metadata": {},
   "source": [
    "# Formatting"
   ]
  },
  {
   "cell_type": "markdown",
   "id": "3a4fef48",
   "metadata": {},
   "source": [
    "## seasons"
   ]
  },
  {
   "cell_type": "code",
   "execution_count": 17,
   "id": "3c85ad6c",
   "metadata": {},
   "outputs": [],
   "source": [
    "# that is one way of doing it\n",
    "#convert seasons code into meaninful season names\n",
    "seasons = ['spring', 'summer','fall', 'winter']\n",
    "def season(column):\n",
    "    if column == 0.0:\n",
    "        return seasons[0]\n",
    "    elif column == 1.0:\n",
    "        return seasons[1]\n",
    "    elif column == 2.0:\n",
    "        return seasons[2]\n",
    "    else:\n",
    "        return seasons[3]\n",
    "    \n",
    "    \n",
    "df['season'] = df['season'].apply(season)"
   ]
  },
  {
   "cell_type": "markdown",
   "id": "9a84d148",
   "metadata": {},
   "source": [
    "## weather state"
   ]
  },
  {
   "cell_type": "code",
   "execution_count": 18,
   "id": "cb2b2c9c",
   "metadata": {},
   "outputs": [],
   "source": [
    "# Convert weather codes into strings\n",
    "weather = {\n",
    "    1.0: 'clear',\n",
    "    2.0: 'few_clouds',\n",
    "    3.0: 'broken_clouds',\n",
    "    4.0: 'cloudy',\n",
    "    7.0: 'Rainy/light rain',\n",
    "    10.0: ' rain with thunderstorm ',\n",
    "    26.0: 'snowfall',\n",
    "    94.0: 'Freezing Frog'\n",
    "}\n",
    "\n",
    "# Replace values in the \"weather_code\" column\n",
    "df[\"weather_state\"].replace(weather, inplace=True)\n"
   ]
  },
  {
   "cell_type": "markdown",
   "id": "dd346a90",
   "metadata": {},
   "source": [
    "## day type"
   ]
  },
  {
   "cell_type": "code",
   "execution_count": 19,
   "id": "718f4e3a",
   "metadata": {},
   "outputs": [],
   "source": [
    "#summarize the two columns 'is_holiday' and 'is_weekend ' into one column which is 'day_type'\n",
    "def day_type(row):\n",
    "    if row['is_holiday'] == 0.0 and row['is_weekend'] == 0.0:\n",
    "        return 'weekday'\n",
    "    elif row['is_holiday'] == 1.0:\n",
    "        return 'holiday'\n",
    "    else:\n",
    "        return 'weekend'\n",
    "\n",
    "df['day_type'] = df.apply(day_type, axis=1)\n"
   ]
  },
  {
   "cell_type": "code",
   "execution_count": 20,
   "id": "172ade63",
   "metadata": {
    "scrolled": true
   },
   "outputs": [
    {
     "data": {
      "text/plain": [
       "day_type\n",
       "weekday    12060\n",
       "weekend     4970\n",
       "holiday      384\n",
       "Name: count, dtype: int64"
      ]
     },
     "execution_count": 20,
     "metadata": {},
     "output_type": "execute_result"
    }
   ],
   "source": [
    "df['day_type'].value_counts()"
   ]
  },
  {
   "cell_type": "code",
   "execution_count": 21,
   "id": "a8644f82",
   "metadata": {},
   "outputs": [
    {
     "data": {
      "text/plain": [
       "timestamp           object\n",
       "new_bike_shares      int64\n",
       "temprature_in_C    float64\n",
       "Felt_temprature    float64\n",
       "humidity           float64\n",
       "wind_speed         float64\n",
       "weather_state       object\n",
       "is_holiday         float64\n",
       "is_weekend         float64\n",
       "season              object\n",
       "day_type            object\n",
       "dtype: object"
      ]
     },
     "execution_count": 21,
     "metadata": {},
     "output_type": "execute_result"
    }
   ],
   "source": [
    "df.dtypes"
   ]
  },
  {
   "cell_type": "code",
   "execution_count": 22,
   "id": "66ed76b1",
   "metadata": {},
   "outputs": [],
   "source": [
    "df['season'] = df['season'].astype('str')"
   ]
  },
  {
   "cell_type": "code",
   "execution_count": 23,
   "id": "e008c433",
   "metadata": {},
   "outputs": [],
   "source": [
    "df['weather_state'] = df['weather_state'].astype('str')"
   ]
  },
  {
   "cell_type": "code",
   "execution_count": 24,
   "id": "2c3614ca",
   "metadata": {},
   "outputs": [],
   "source": [
    "df['day_type'] = df['day_type'].astype('str')"
   ]
  },
  {
   "cell_type": "code",
   "execution_count": 25,
   "id": "eab28697",
   "metadata": {
    "scrolled": true
   },
   "outputs": [
    {
     "data": {
      "text/html": [
       "<div>\n",
       "<style scoped>\n",
       "    .dataframe tbody tr th:only-of-type {\n",
       "        vertical-align: middle;\n",
       "    }\n",
       "\n",
       "    .dataframe tbody tr th {\n",
       "        vertical-align: top;\n",
       "    }\n",
       "\n",
       "    .dataframe thead th {\n",
       "        text-align: right;\n",
       "    }\n",
       "</style>\n",
       "<table border=\"1\" class=\"dataframe\">\n",
       "  <thead>\n",
       "    <tr style=\"text-align: right;\">\n",
       "      <th></th>\n",
       "      <th>timestamp</th>\n",
       "      <th>new_bike_shares</th>\n",
       "      <th>temprature_in_C</th>\n",
       "      <th>Felt_temprature</th>\n",
       "      <th>humidity</th>\n",
       "      <th>wind_speed</th>\n",
       "      <th>weather_state</th>\n",
       "      <th>is_holiday</th>\n",
       "      <th>is_weekend</th>\n",
       "      <th>season</th>\n",
       "      <th>day_type</th>\n",
       "    </tr>\n",
       "  </thead>\n",
       "  <tbody>\n",
       "    <tr>\n",
       "      <th>0</th>\n",
       "      <td>2015-01-04 00:00:00</td>\n",
       "      <td>182</td>\n",
       "      <td>3.0</td>\n",
       "      <td>2.0</td>\n",
       "      <td>0.00930</td>\n",
       "      <td>6.0</td>\n",
       "      <td>broken_clouds</td>\n",
       "      <td>0.0</td>\n",
       "      <td>1.0</td>\n",
       "      <td>winter</td>\n",
       "      <td>weekend</td>\n",
       "    </tr>\n",
       "    <tr>\n",
       "      <th>1</th>\n",
       "      <td>2015-01-04 01:00:00</td>\n",
       "      <td>138</td>\n",
       "      <td>3.0</td>\n",
       "      <td>2.5</td>\n",
       "      <td>0.00930</td>\n",
       "      <td>5.0</td>\n",
       "      <td>clear</td>\n",
       "      <td>0.0</td>\n",
       "      <td>1.0</td>\n",
       "      <td>winter</td>\n",
       "      <td>weekend</td>\n",
       "    </tr>\n",
       "    <tr>\n",
       "      <th>2</th>\n",
       "      <td>2015-01-04 02:00:00</td>\n",
       "      <td>134</td>\n",
       "      <td>2.5</td>\n",
       "      <td>2.5</td>\n",
       "      <td>0.00965</td>\n",
       "      <td>0.0</td>\n",
       "      <td>clear</td>\n",
       "      <td>0.0</td>\n",
       "      <td>1.0</td>\n",
       "      <td>winter</td>\n",
       "      <td>weekend</td>\n",
       "    </tr>\n",
       "    <tr>\n",
       "      <th>3</th>\n",
       "      <td>2015-01-04 03:00:00</td>\n",
       "      <td>72</td>\n",
       "      <td>2.0</td>\n",
       "      <td>2.0</td>\n",
       "      <td>0.01000</td>\n",
       "      <td>0.0</td>\n",
       "      <td>clear</td>\n",
       "      <td>0.0</td>\n",
       "      <td>1.0</td>\n",
       "      <td>winter</td>\n",
       "      <td>weekend</td>\n",
       "    </tr>\n",
       "    <tr>\n",
       "      <th>4</th>\n",
       "      <td>2015-01-04 04:00:00</td>\n",
       "      <td>47</td>\n",
       "      <td>2.0</td>\n",
       "      <td>0.0</td>\n",
       "      <td>0.00930</td>\n",
       "      <td>6.5</td>\n",
       "      <td>clear</td>\n",
       "      <td>0.0</td>\n",
       "      <td>1.0</td>\n",
       "      <td>winter</td>\n",
       "      <td>weekend</td>\n",
       "    </tr>\n",
       "    <tr>\n",
       "      <th>...</th>\n",
       "      <td>...</td>\n",
       "      <td>...</td>\n",
       "      <td>...</td>\n",
       "      <td>...</td>\n",
       "      <td>...</td>\n",
       "      <td>...</td>\n",
       "      <td>...</td>\n",
       "      <td>...</td>\n",
       "      <td>...</td>\n",
       "      <td>...</td>\n",
       "      <td>...</td>\n",
       "    </tr>\n",
       "    <tr>\n",
       "      <th>17409</th>\n",
       "      <td>2017-01-03 19:00:00</td>\n",
       "      <td>1042</td>\n",
       "      <td>5.0</td>\n",
       "      <td>1.0</td>\n",
       "      <td>0.00810</td>\n",
       "      <td>19.0</td>\n",
       "      <td>broken_clouds</td>\n",
       "      <td>0.0</td>\n",
       "      <td>0.0</td>\n",
       "      <td>winter</td>\n",
       "      <td>weekday</td>\n",
       "    </tr>\n",
       "    <tr>\n",
       "      <th>17410</th>\n",
       "      <td>2017-01-03 20:00:00</td>\n",
       "      <td>541</td>\n",
       "      <td>5.0</td>\n",
       "      <td>1.0</td>\n",
       "      <td>0.00810</td>\n",
       "      <td>21.0</td>\n",
       "      <td>cloudy</td>\n",
       "      <td>0.0</td>\n",
       "      <td>0.0</td>\n",
       "      <td>winter</td>\n",
       "      <td>weekday</td>\n",
       "    </tr>\n",
       "    <tr>\n",
       "      <th>17411</th>\n",
       "      <td>2017-01-03 21:00:00</td>\n",
       "      <td>337</td>\n",
       "      <td>5.5</td>\n",
       "      <td>1.5</td>\n",
       "      <td>0.00785</td>\n",
       "      <td>24.0</td>\n",
       "      <td>cloudy</td>\n",
       "      <td>0.0</td>\n",
       "      <td>0.0</td>\n",
       "      <td>winter</td>\n",
       "      <td>weekday</td>\n",
       "    </tr>\n",
       "    <tr>\n",
       "      <th>17412</th>\n",
       "      <td>2017-01-03 22:00:00</td>\n",
       "      <td>224</td>\n",
       "      <td>5.5</td>\n",
       "      <td>1.5</td>\n",
       "      <td>0.00760</td>\n",
       "      <td>23.0</td>\n",
       "      <td>cloudy</td>\n",
       "      <td>0.0</td>\n",
       "      <td>0.0</td>\n",
       "      <td>winter</td>\n",
       "      <td>weekday</td>\n",
       "    </tr>\n",
       "    <tr>\n",
       "      <th>17413</th>\n",
       "      <td>2017-01-03 23:00:00</td>\n",
       "      <td>139</td>\n",
       "      <td>5.0</td>\n",
       "      <td>1.0</td>\n",
       "      <td>0.00760</td>\n",
       "      <td>22.0</td>\n",
       "      <td>few_clouds</td>\n",
       "      <td>0.0</td>\n",
       "      <td>0.0</td>\n",
       "      <td>winter</td>\n",
       "      <td>weekday</td>\n",
       "    </tr>\n",
       "  </tbody>\n",
       "</table>\n",
       "<p>17414 rows × 11 columns</p>\n",
       "</div>"
      ],
      "text/plain": [
       "                 timestamp  new_bike_shares  temprature_in_C  Felt_temprature  \\\n",
       "0      2015-01-04 00:00:00              182              3.0              2.0   \n",
       "1      2015-01-04 01:00:00              138              3.0              2.5   \n",
       "2      2015-01-04 02:00:00              134              2.5              2.5   \n",
       "3      2015-01-04 03:00:00               72              2.0              2.0   \n",
       "4      2015-01-04 04:00:00               47              2.0              0.0   \n",
       "...                    ...              ...              ...              ...   \n",
       "17409  2017-01-03 19:00:00             1042              5.0              1.0   \n",
       "17410  2017-01-03 20:00:00              541              5.0              1.0   \n",
       "17411  2017-01-03 21:00:00              337              5.5              1.5   \n",
       "17412  2017-01-03 22:00:00              224              5.5              1.5   \n",
       "17413  2017-01-03 23:00:00              139              5.0              1.0   \n",
       "\n",
       "       humidity  wind_speed  weather_state  is_holiday  is_weekend  season  \\\n",
       "0       0.00930         6.0  broken_clouds         0.0         1.0  winter   \n",
       "1       0.00930         5.0          clear         0.0         1.0  winter   \n",
       "2       0.00965         0.0          clear         0.0         1.0  winter   \n",
       "3       0.01000         0.0          clear         0.0         1.0  winter   \n",
       "4       0.00930         6.5          clear         0.0         1.0  winter   \n",
       "...         ...         ...            ...         ...         ...     ...   \n",
       "17409   0.00810        19.0  broken_clouds         0.0         0.0  winter   \n",
       "17410   0.00810        21.0         cloudy         0.0         0.0  winter   \n",
       "17411   0.00785        24.0         cloudy         0.0         0.0  winter   \n",
       "17412   0.00760        23.0         cloudy         0.0         0.0  winter   \n",
       "17413   0.00760        22.0     few_clouds         0.0         0.0  winter   \n",
       "\n",
       "      day_type  \n",
       "0      weekend  \n",
       "1      weekend  \n",
       "2      weekend  \n",
       "3      weekend  \n",
       "4      weekend  \n",
       "...        ...  \n",
       "17409  weekday  \n",
       "17410  weekday  \n",
       "17411  weekday  \n",
       "17412  weekday  \n",
       "17413  weekday  \n",
       "\n",
       "[17414 rows x 11 columns]"
      ]
     },
     "execution_count": 25,
     "metadata": {},
     "output_type": "execute_result"
    }
   ],
   "source": [
    "df"
   ]
  },
  {
   "cell_type": "code",
   "execution_count": 26,
   "id": "553971ba",
   "metadata": {
    "scrolled": true
   },
   "outputs": [
    {
     "data": {
      "text/html": [
       "<div>\n",
       "<style scoped>\n",
       "    .dataframe tbody tr th:only-of-type {\n",
       "        vertical-align: middle;\n",
       "    }\n",
       "\n",
       "    .dataframe tbody tr th {\n",
       "        vertical-align: top;\n",
       "    }\n",
       "\n",
       "    .dataframe thead th {\n",
       "        text-align: right;\n",
       "    }\n",
       "</style>\n",
       "<table border=\"1\" class=\"dataframe\">\n",
       "  <thead>\n",
       "    <tr style=\"text-align: right;\">\n",
       "      <th></th>\n",
       "      <th>timestamp</th>\n",
       "      <th>new_bike_shares</th>\n",
       "      <th>temprature_in_C</th>\n",
       "      <th>Felt_temprature</th>\n",
       "      <th>humidity</th>\n",
       "      <th>wind_speed</th>\n",
       "      <th>weather_state</th>\n",
       "      <th>is_holiday</th>\n",
       "      <th>is_weekend</th>\n",
       "      <th>season</th>\n",
       "      <th>day_type</th>\n",
       "    </tr>\n",
       "  </thead>\n",
       "  <tbody>\n",
       "    <tr>\n",
       "      <th>0</th>\n",
       "      <td>2015-01-04 00:00:00</td>\n",
       "      <td>182</td>\n",
       "      <td>3.0</td>\n",
       "      <td>2.0</td>\n",
       "      <td>0.00930</td>\n",
       "      <td>6.0</td>\n",
       "      <td>broken_clouds</td>\n",
       "      <td>0.0</td>\n",
       "      <td>1.0</td>\n",
       "      <td>winter</td>\n",
       "      <td>weekend</td>\n",
       "    </tr>\n",
       "    <tr>\n",
       "      <th>1</th>\n",
       "      <td>2015-01-04 01:00:00</td>\n",
       "      <td>138</td>\n",
       "      <td>3.0</td>\n",
       "      <td>2.5</td>\n",
       "      <td>0.00930</td>\n",
       "      <td>5.0</td>\n",
       "      <td>clear</td>\n",
       "      <td>0.0</td>\n",
       "      <td>1.0</td>\n",
       "      <td>winter</td>\n",
       "      <td>weekend</td>\n",
       "    </tr>\n",
       "    <tr>\n",
       "      <th>2</th>\n",
       "      <td>2015-01-04 02:00:00</td>\n",
       "      <td>134</td>\n",
       "      <td>2.5</td>\n",
       "      <td>2.5</td>\n",
       "      <td>0.00965</td>\n",
       "      <td>0.0</td>\n",
       "      <td>clear</td>\n",
       "      <td>0.0</td>\n",
       "      <td>1.0</td>\n",
       "      <td>winter</td>\n",
       "      <td>weekend</td>\n",
       "    </tr>\n",
       "    <tr>\n",
       "      <th>3</th>\n",
       "      <td>2015-01-04 03:00:00</td>\n",
       "      <td>72</td>\n",
       "      <td>2.0</td>\n",
       "      <td>2.0</td>\n",
       "      <td>0.01000</td>\n",
       "      <td>0.0</td>\n",
       "      <td>clear</td>\n",
       "      <td>0.0</td>\n",
       "      <td>1.0</td>\n",
       "      <td>winter</td>\n",
       "      <td>weekend</td>\n",
       "    </tr>\n",
       "    <tr>\n",
       "      <th>4</th>\n",
       "      <td>2015-01-04 04:00:00</td>\n",
       "      <td>47</td>\n",
       "      <td>2.0</td>\n",
       "      <td>0.0</td>\n",
       "      <td>0.00930</td>\n",
       "      <td>6.5</td>\n",
       "      <td>clear</td>\n",
       "      <td>0.0</td>\n",
       "      <td>1.0</td>\n",
       "      <td>winter</td>\n",
       "      <td>weekend</td>\n",
       "    </tr>\n",
       "    <tr>\n",
       "      <th>...</th>\n",
       "      <td>...</td>\n",
       "      <td>...</td>\n",
       "      <td>...</td>\n",
       "      <td>...</td>\n",
       "      <td>...</td>\n",
       "      <td>...</td>\n",
       "      <td>...</td>\n",
       "      <td>...</td>\n",
       "      <td>...</td>\n",
       "      <td>...</td>\n",
       "      <td>...</td>\n",
       "    </tr>\n",
       "    <tr>\n",
       "      <th>17409</th>\n",
       "      <td>2017-01-03 19:00:00</td>\n",
       "      <td>1042</td>\n",
       "      <td>5.0</td>\n",
       "      <td>1.0</td>\n",
       "      <td>0.00810</td>\n",
       "      <td>19.0</td>\n",
       "      <td>broken_clouds</td>\n",
       "      <td>0.0</td>\n",
       "      <td>0.0</td>\n",
       "      <td>winter</td>\n",
       "      <td>weekday</td>\n",
       "    </tr>\n",
       "    <tr>\n",
       "      <th>17410</th>\n",
       "      <td>2017-01-03 20:00:00</td>\n",
       "      <td>541</td>\n",
       "      <td>5.0</td>\n",
       "      <td>1.0</td>\n",
       "      <td>0.00810</td>\n",
       "      <td>21.0</td>\n",
       "      <td>cloudy</td>\n",
       "      <td>0.0</td>\n",
       "      <td>0.0</td>\n",
       "      <td>winter</td>\n",
       "      <td>weekday</td>\n",
       "    </tr>\n",
       "    <tr>\n",
       "      <th>17411</th>\n",
       "      <td>2017-01-03 21:00:00</td>\n",
       "      <td>337</td>\n",
       "      <td>5.5</td>\n",
       "      <td>1.5</td>\n",
       "      <td>0.00785</td>\n",
       "      <td>24.0</td>\n",
       "      <td>cloudy</td>\n",
       "      <td>0.0</td>\n",
       "      <td>0.0</td>\n",
       "      <td>winter</td>\n",
       "      <td>weekday</td>\n",
       "    </tr>\n",
       "    <tr>\n",
       "      <th>17412</th>\n",
       "      <td>2017-01-03 22:00:00</td>\n",
       "      <td>224</td>\n",
       "      <td>5.5</td>\n",
       "      <td>1.5</td>\n",
       "      <td>0.00760</td>\n",
       "      <td>23.0</td>\n",
       "      <td>cloudy</td>\n",
       "      <td>0.0</td>\n",
       "      <td>0.0</td>\n",
       "      <td>winter</td>\n",
       "      <td>weekday</td>\n",
       "    </tr>\n",
       "    <tr>\n",
       "      <th>17413</th>\n",
       "      <td>2017-01-03 23:00:00</td>\n",
       "      <td>139</td>\n",
       "      <td>5.0</td>\n",
       "      <td>1.0</td>\n",
       "      <td>0.00760</td>\n",
       "      <td>22.0</td>\n",
       "      <td>few_clouds</td>\n",
       "      <td>0.0</td>\n",
       "      <td>0.0</td>\n",
       "      <td>winter</td>\n",
       "      <td>weekday</td>\n",
       "    </tr>\n",
       "  </tbody>\n",
       "</table>\n",
       "<p>17414 rows × 11 columns</p>\n",
       "</div>"
      ],
      "text/plain": [
       "                 timestamp  new_bike_shares  temprature_in_C  Felt_temprature  \\\n",
       "0      2015-01-04 00:00:00              182              3.0              2.0   \n",
       "1      2015-01-04 01:00:00              138              3.0              2.5   \n",
       "2      2015-01-04 02:00:00              134              2.5              2.5   \n",
       "3      2015-01-04 03:00:00               72              2.0              2.0   \n",
       "4      2015-01-04 04:00:00               47              2.0              0.0   \n",
       "...                    ...              ...              ...              ...   \n",
       "17409  2017-01-03 19:00:00             1042              5.0              1.0   \n",
       "17410  2017-01-03 20:00:00              541              5.0              1.0   \n",
       "17411  2017-01-03 21:00:00              337              5.5              1.5   \n",
       "17412  2017-01-03 22:00:00              224              5.5              1.5   \n",
       "17413  2017-01-03 23:00:00              139              5.0              1.0   \n",
       "\n",
       "       humidity  wind_speed  weather_state  is_holiday  is_weekend  season  \\\n",
       "0       0.00930         6.0  broken_clouds         0.0         1.0  winter   \n",
       "1       0.00930         5.0          clear         0.0         1.0  winter   \n",
       "2       0.00965         0.0          clear         0.0         1.0  winter   \n",
       "3       0.01000         0.0          clear         0.0         1.0  winter   \n",
       "4       0.00930         6.5          clear         0.0         1.0  winter   \n",
       "...         ...         ...            ...         ...         ...     ...   \n",
       "17409   0.00810        19.0  broken_clouds         0.0         0.0  winter   \n",
       "17410   0.00810        21.0         cloudy         0.0         0.0  winter   \n",
       "17411   0.00785        24.0         cloudy         0.0         0.0  winter   \n",
       "17412   0.00760        23.0         cloudy         0.0         0.0  winter   \n",
       "17413   0.00760        22.0     few_clouds         0.0         0.0  winter   \n",
       "\n",
       "      day_type  \n",
       "0      weekend  \n",
       "1      weekend  \n",
       "2      weekend  \n",
       "3      weekend  \n",
       "4      weekend  \n",
       "...        ...  \n",
       "17409  weekday  \n",
       "17410  weekday  \n",
       "17411  weekday  \n",
       "17412  weekday  \n",
       "17413  weekday  \n",
       "\n",
       "[17414 rows x 11 columns]"
      ]
     },
     "execution_count": 26,
     "metadata": {},
     "output_type": "execute_result"
    }
   ],
   "source": [
    "df"
   ]
  },
  {
   "cell_type": "markdown",
   "id": "de65d18a",
   "metadata": {},
   "source": [
    "## importing the prepared data into an excel file"
   ]
  },
  {
   "cell_type": "code",
   "execution_count": 27,
   "id": "1b615865",
   "metadata": {},
   "outputs": [],
   "source": [
    "df.to_excel('london_bikes.xlsx', sheet_name = 'bikes_data')"
   ]
  }
 ],
 "metadata": {
  "kernelspec": {
   "display_name": "Python 3 (ipykernel)",
   "language": "python",
   "name": "python3"
  },
  "language_info": {
   "codemirror_mode": {
    "name": "ipython",
    "version": 3
   },
   "file_extension": ".py",
   "mimetype": "text/x-python",
   "name": "python",
   "nbconvert_exporter": "python",
   "pygments_lexer": "ipython3",
   "version": "3.11.5"
  }
 },
 "nbformat": 4,
 "nbformat_minor": 5
}
